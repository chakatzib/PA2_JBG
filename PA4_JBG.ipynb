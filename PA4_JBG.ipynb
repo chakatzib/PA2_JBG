{
 "cells": [
  {
   "cell_type": "markdown",
   "id": "7e6ede38",
   "metadata": {},
   "source": [
    "# Assignment 3 #\n",
    "## Joey Guthrie, CS 150 ##\n",
    "### 1/30/23, version 1 ###\n"
   ]
  },
  {
   "cell_type": "markdown",
   "id": "1927f9b1",
   "metadata": {},
   "source": [
    "Append adds an item to the end of a list."
   ]
  },
  {
   "cell_type": "code",
   "execution_count": 2,
   "id": "92eaf524",
   "metadata": {},
   "outputs": [
    {
     "name": "stdout",
     "output_type": "stream",
     "text": [
      "['Honda']\n"
     ]
    }
   ],
   "source": [
    "cars=[]\n",
    "cars.append(\"Honda\")\n",
    "print(cars)\n"
   ]
  },
  {
   "cell_type": "markdown",
   "id": "26f9aadd",
   "metadata": {},
   "source": [
    "I cannot find any documentation of an \"extend()\" command, nor its function or syntax, in either my existing notes or my book. However, from trial and error, it appears to split a string into its component characters and store them on a list.\n"
   ]
  },
  {
   "cell_type": "code",
   "execution_count": 6,
   "id": "1a2ac735",
   "metadata": {},
   "outputs": [
    {
     "name": "stdout",
     "output_type": "stream",
     "text": [
      "['Honda', 'c', 'a', 'r', 'c', 'a', 'r']\n"
     ]
    }
   ],
   "source": [
    "cars.extend(\"car\")\n",
    "print(cars)\n"
   ]
  },
  {
   "cell_type": "markdown",
   "id": "b8aa24ea",
   "metadata": {},
   "source": [
    "Insert allows you to add an item to a list at the selected index\n"
   ]
  },
  {
   "cell_type": "code",
   "execution_count": 8,
   "id": "7924ed17",
   "metadata": {},
   "outputs": [
    {
     "name": "stdout",
     "output_type": "stream",
     "text": [
      "['Honda', 'c', 'a', 'Ford', 'r', 'c', 'a', 'r']\n"
     ]
    }
   ],
   "source": [
    "cars.insert(3, \"Ford\")\n",
    "print(cars)"
   ]
  },
  {
   "cell_type": "markdown",
   "id": "f6490022",
   "metadata": {},
   "source": [
    "remove takes out the first specified element of a list using a string value.\n"
   ]
  },
  {
   "cell_type": "code",
   "execution_count": 9,
   "id": "551717eb",
   "metadata": {},
   "outputs": [
    {
     "name": "stdout",
     "output_type": "stream",
     "text": [
      "['Honda', 'c', 'a', 'Ford', 'c', 'a', 'r']\n"
     ]
    }
   ],
   "source": [
    "cars.remove(\"r\")\n",
    "print(cars)"
   ]
  },
  {
   "cell_type": "markdown",
   "id": "bfa79da0",
   "metadata": {},
   "source": [
    "I also cannot find anything on this \"count()\" command in my book nor in my past classwork. Like extend(), it is indeed a command of some kind, but doesnt seem to return any meaningful output. Doesnt modify the list, and on its own, it returns \"0\" every time, no matter what value is used as the argument"
   ]
  },
  {
   "cell_type": "code",
   "execution_count": 19,
   "id": "2208da9d",
   "metadata": {},
   "outputs": [
    {
     "name": "stdout",
     "output_type": "stream",
     "text": [
      "['Honda', 'c', 'a', 'Ford', 'c', 'a', 'r']\n"
     ]
    }
   ],
   "source": [
    "cars.count(8)\n",
    "print(cars)"
   ]
  },
  {
   "cell_type": "markdown",
   "id": "ea54d69f",
   "metadata": {},
   "source": [
    "Index() returns the index value of a given string"
   ]
  },
  {
   "cell_type": "code",
   "execution_count": 21,
   "id": "2491df46",
   "metadata": {},
   "outputs": [
    {
     "data": {
      "text/plain": [
       "6"
      ]
     },
     "execution_count": 21,
     "metadata": {},
     "output_type": "execute_result"
    }
   ],
   "source": [
    "cars.index(\"r\")"
   ]
  },
  {
   "cell_type": "markdown",
   "id": "4a122f32",
   "metadata": {},
   "source": [
    "pop works similarly to remove, but uses the index value rather than string value."
   ]
  },
  {
   "cell_type": "code",
   "execution_count": 22,
   "id": "916fab37",
   "metadata": {},
   "outputs": [
    {
     "name": "stdout",
     "output_type": "stream",
     "text": [
      "['Honda', 'a', 'Ford', 'c', 'a', 'r']\n"
     ]
    }
   ],
   "source": [
    "cars.pop(1)\n",
    "print(cars)"
   ]
  },
  {
   "cell_type": "markdown",
   "id": "7c8a1082",
   "metadata": {},
   "source": [
    "sorted() allows you to temporarily order a list. not to be confused with sort(), which saves the ordering changes in the program.\n"
   ]
  },
  {
   "cell_type": "code",
   "execution_count": 25,
   "id": "c218ea94",
   "metadata": {},
   "outputs": [
    {
     "name": "stdout",
     "output_type": "stream",
     "text": [
      "['Honda', 'a', 'Ford', 'c', 'a', 'r']\n",
      "['Ford', 'Honda', 'a', 'a', 'c', 'r']\n"
     ]
    }
   ],
   "source": [
    "print(cars)\n",
    "print(sorted(cars))"
   ]
  },
  {
   "cell_type": "markdown",
   "id": "8beb2d8b",
   "metadata": {},
   "source": [
    "I cant figure out what copy() does. It prints thet list into the console. Cant take any arguments, integers nor string. presumably related to copying lists, but I dont know how to use it. It is much easier for me to copy a list with the form:\n",
    "placeholder_1 = copied_placeholder[:]"
   ]
  },
  {
   "cell_type": "code",
   "execution_count": 32,
   "id": "dc5122a5",
   "metadata": {},
   "outputs": [
    {
     "data": {
      "text/plain": [
       "['Honda', 'a', 'Ford', 'c', 'a', 'r']"
      ]
     },
     "execution_count": 32,
     "metadata": {},
     "output_type": "execute_result"
    }
   ],
   "source": [
    "cars.copy()"
   ]
  },
  {
   "cell_type": "markdown",
   "id": "9c87f1bb",
   "metadata": {},
   "source": [
    "clear() clears a list of its values without deleting the list itself."
   ]
  },
  {
   "cell_type": "code",
   "execution_count": 34,
   "id": "fa269ea3",
   "metadata": {},
   "outputs": [
    {
     "name": "stdout",
     "output_type": "stream",
     "text": [
      "[]\n"
     ]
    }
   ],
   "source": [
    "cars.clear()\n",
    "print(cars)"
   ]
  },
  {
   "cell_type": "markdown",
   "id": "3148d917",
   "metadata": {},
   "source": [
    "the list() function works very much like the extend() function, by splitting a string into its individual characters and putting them in a list."
   ]
  },
  {
   "cell_type": "code",
   "execution_count": 38,
   "id": "207a43c5",
   "metadata": {},
   "outputs": [
    {
     "data": {
      "text/plain": [
       "['p', 'l', 'a', 'c', 'e', 'h', 'o', 'l', 'd', 'e', 'r']"
      ]
     },
     "execution_count": 38,
     "metadata": {},
     "output_type": "execute_result"
    }
   ],
   "source": [
    "list(\"placeholder\")"
   ]
  },
  {
   "cell_type": "markdown",
   "id": "3e02d8cb",
   "metadata": {},
   "source": [
    "these last three functions work for both lists and tuples. len() returns the length of the list or tuple specified in the parenthesis. max() returns the highest value in the list or tuple specified in the parenthesis, and min() does the same but returns the minimum instead."
   ]
  },
  {
   "cell_type": "code",
   "execution_count": 39,
   "id": "ff0c841d",
   "metadata": {},
   "outputs": [],
   "source": [
    "numbers=(1,2,3,4)"
   ]
  },
  {
   "cell_type": "code",
   "execution_count": 40,
   "id": "3f580575",
   "metadata": {},
   "outputs": [
    {
     "data": {
      "text/plain": [
       "tuple"
      ]
     },
     "execution_count": 40,
     "metadata": {},
     "output_type": "execute_result"
    }
   ],
   "source": [
    "type(numbers)"
   ]
  },
  {
   "cell_type": "code",
   "execution_count": 41,
   "id": "75e9e8f8",
   "metadata": {},
   "outputs": [
    {
     "data": {
      "text/plain": [
       "4"
      ]
     },
     "execution_count": 41,
     "metadata": {},
     "output_type": "execute_result"
    }
   ],
   "source": [
    "len(numbers)"
   ]
  },
  {
   "cell_type": "code",
   "execution_count": 42,
   "id": "e7f4c0c6",
   "metadata": {},
   "outputs": [
    {
     "data": {
      "text/plain": [
       "4"
      ]
     },
     "execution_count": 42,
     "metadata": {},
     "output_type": "execute_result"
    }
   ],
   "source": [
    "max(numbers)"
   ]
  },
  {
   "cell_type": "code",
   "execution_count": 43,
   "id": "d98326a6",
   "metadata": {},
   "outputs": [
    {
     "data": {
      "text/plain": [
       "1"
      ]
     },
     "execution_count": 43,
     "metadata": {},
     "output_type": "execute_result"
    }
   ],
   "source": [
    "min(numbers)"
   ]
  },
  {
   "cell_type": "code",
   "execution_count": null,
   "id": "66a7a37e",
   "metadata": {},
   "outputs": [],
   "source": []
  }
 ],
 "metadata": {
  "kernelspec": {
   "display_name": "Python 3 (ipykernel)",
   "language": "python",
   "name": "python3"
  },
  "language_info": {
   "codemirror_mode": {
    "name": "ipython",
    "version": 3
   },
   "file_extension": ".py",
   "mimetype": "text/x-python",
   "name": "python",
   "nbconvert_exporter": "python",
   "pygments_lexer": "ipython3",
   "version": "3.9.13"
  }
 },
 "nbformat": 4,
 "nbformat_minor": 5
}
